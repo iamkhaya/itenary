{
 "cells": [
  {
   "cell_type": "code",
   "execution_count": 1,
   "metadata": {
    "collapsed": true
   },
   "outputs": [],
   "source": [
    "import pydf\n",
    "pdf = pydf.generate_pdf('<h1>this is html</h1>')\n",
    "with open('test_doc.pdf', 'w') as f:\n",
    "    f.write(pdf)\n",
    "\n",
    "pdf = pydf.generate_pdf('www.google.com')\n",
    "with open('google.pdf', 'w') as f:\n",
    "    f.write(pdf)"
   ]
  },
  {
   "cell_type": "code",
   "execution_count": 4,
   "metadata": {
    "collapsed": false
   },
   "outputs": [],
   "source": [
    "import pydf\n",
    "alarm_report = \"test\"\n",
    "file_name = \"test.pdf\"\n",
    "\n",
    "pdf = pydf.generate_pdf(alarm_report)\n",
    "with open(str(file_name), 'w') as f:\n",
    "    f.write(pdf)"
   ]
  },
  {
   "cell_type": "code",
   "execution_count": null,
   "metadata": {
    "collapsed": true
   },
   "outputs": [],
   "source": []
  }
 ],
 "metadata": {
  "kernelspec": {
   "display_name": "Python 2",
   "language": "python",
   "name": "python2"
  },
  "language_info": {
   "codemirror_mode": {
    "name": "ipython",
    "version": 2
   },
   "file_extension": ".py",
   "mimetype": "text/x-python",
   "name": "python",
   "nbconvert_exporter": "python",
   "pygments_lexer": "ipython2",
   "version": "2.7.5"
  }
 },
 "nbformat": 4,
 "nbformat_minor": 1
}
